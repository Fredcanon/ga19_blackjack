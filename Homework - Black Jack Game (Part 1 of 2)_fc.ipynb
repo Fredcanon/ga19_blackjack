{
 "cells": [
  {
   "cell_type": "markdown",
   "metadata": {},
   "source": [
    "## Black Jack Game Homework Assignment"
   ]
  },
  {
   "cell_type": "markdown",
   "metadata": {},
   "source": [
    "Create a class for a card that has attributes for:   a suit (i.e., spade, hearts, diamonds, clubs), string description (e.g., King of Hearts) and numeric value (2 to 11 where face cards are 10 and Aces are 11)"
   ]
  },
  {
   "cell_type": "code",
   "execution_count": null,
   "metadata": {},
   "outputs": [],
   "source": [
    "class Card:\n",
    "    def __init__(self,suit,string_desc, card_value):\n",
    "        self.suit = suit    # diamonds, hearts, spades, clubs\n",
    "        self.string_desc = string_desc    # 2, 3, 4, 5, 6, 7, 8, 9, 10, J, Q, K , A\n",
    "        self.card_value = card_value # 11, 10 , 2, 3, 4, 5, 6, 7 ,8 ,9\n",
    "        \n",
    "        pass"
   ]
  },
  {
   "cell_type": "code",
   "execution_count": 8,
   "metadata": {},
   "outputs": [],
   "source": [
    "suit = [\"Diamonds\", \"Hearts\", \"Spades\", \"Clubs\"]\n",
    "value = ['2','3','4','5','6','7','8','9','10','Jack','Queen', 'King','Ace']\n",
    "\n",
    "#creating the string description for each card\n",
    "string_desc = []\n",
    "for s in suit:\n",
    "    for card in value:\n",
    "                    #two nested loops to get my 52 card descriptions\n",
    "        string_desc.append(f'{card} of {s}')\n",
    "        \n",
    "card_value = {'2': 2, '3': 3, '4': 4, '5': 5, '6': 6, '7': 7, '8': 8, '9': 9, '10': 10, 'J': 10, 'Q': 10, 'K': 10, 'A': 11}"
   ]
  },
  {
   "cell_type": "code",
   "execution_count": null,
   "metadata": {},
   "outputs": [],
   "source": []
  },
  {
   "cell_type": "markdown",
   "metadata": {},
   "source": [
    "Create a class that represents a deck of cards\n",
    "- When initialized it starts with a full deck of shuffled cards as an attribute\n",
    "- Create a method for dealing a single card (when card is dealt it is removed from the deck)"
   ]
  },
  {
   "cell_type": "markdown",
   "metadata": {},
   "source": [
    "Here's a hint for how to shuffle cards in a deck\n",
    "https://www.w3schools.com/python/trypython.asp?filename=demo_ref_random_shuffle"
   ]
  },
  {
   "cell_type": "code",
   "execution_count": 10,
   "metadata": {},
   "outputs": [],
   "source": [
    "class Deck:\n",
    "    def __init__(self):\n",
    "        card_deck = []\n",
    "        for s in suit:\n",
    "            for card in value: # add the rest of the cards\n",
    "                 card_deck.append(Card(s, card, card_value[card]))\n",
    "        self.card_deck = card_deck\n",
    "        pass # add your code to add instances of the Card class to your deck\n",
    "       \n",
    "    # add code to shuffle the deck\n",
    "    def shuffle(self):   # randomly shuffle the deck\n",
    "        random.shuffle(self.card_deck)\n",
    "        \n",
    "        # add code to store the shuffled deck as an attribute\n",
    "        \n",
    "    def deal_card(self):\n",
    "        last_card = self.card_deck.pop() ## always takes the last card\n",
    "        return last_card # add code to return a card while removing it from the deck (hint: use pop)"
   ]
  },
  {
   "cell_type": "code",
   "execution_count": null,
   "metadata": {},
   "outputs": [],
   "source": []
  },
  {
   "cell_type": "code",
   "execution_count": null,
   "metadata": {},
   "outputs": [],
   "source": []
  },
  {
   "cell_type": "markdown",
   "metadata": {},
   "source": [
    "Create a program that deals a hand of black jack.\n",
    "- Player gets 2 cards\n",
    "- Dealer gets 2 cards "
   ]
  },
  {
   "cell_type": "code",
   "execution_count": 11,
   "metadata": {},
   "outputs": [],
   "source": [
    "# create a game class\n",
    "class black_jack:\n",
    "    name = [] # store the names of players as a list for each new instance\n",
    "    def __init__ (self, name):\n",
    "        self.card_deck = card_deck()\n",
    "        self.name = name\n",
    "    \n",
    "    def new_user(cls): # saving the name of a player as a user\n",
    "        return cls(\n",
    "            input('Name: '))\n",
    "    \n",
    "    def deal_card(self):\n",
    "        player_cards = []\n",
    "        dealer_cards = []\n",
    "        while len(player_cards) <2:\n",
    "            temp_p1 = random.choice(card_deck) # randomly dealing a card\n",
    "            player_cards.append(temp_p1)\n",
    "            card_deck.remove(temp_p1) # removing the card from the deck\n",
    "            \n",
    "        print(\"Player cards: \")\n",
    "        print_cards(player_cards, False)\n",
    "\n",
    "        input()\n",
    "    \n",
    "        while len(dealer_cards) <2:\n",
    "            temp_p2 = random.choice(card_deck) # randomly dealing a card\n",
    "            player_cards.append(temp_p2)\n",
    "            card_deck.remove(temp_p2) # removing the card from the deck\n",
    "            \n",
    "        print(\"Dealer cards: \")\n",
    "        print_cards(dealer_cards, False)\n",
    "    \n",
    "            "
   ]
  },
  {
   "cell_type": "code",
   "execution_count": null,
   "metadata": {},
   "outputs": [],
   "source": []
  },
  {
   "cell_type": "code",
   "execution_count": null,
   "metadata": {},
   "outputs": [],
   "source": []
  },
  {
   "cell_type": "markdown",
   "metadata": {},
   "source": [
    "**Bonus Challenge**: Create a BlackJackHand class to store the cards and calculate the value of the hand."
   ]
  },
  {
   "cell_type": "code",
   "execution_count": null,
   "metadata": {},
   "outputs": [],
   "source": [
    "class BlackJackHand:\n",
    "player_score = 0\n",
    "dealer_score = 0\n",
    "player_score += temp_p1.card_value\n",
    "dealer_score += temp_p2.card_value"
   ]
  }
 ],
 "metadata": {
  "kernelspec": {
   "display_name": "Python 3",
   "language": "python",
   "name": "python3"
  },
  "language_info": {
   "codemirror_mode": {
    "name": "ipython",
    "version": 3
   },
   "file_extension": ".py",
   "mimetype": "text/x-python",
   "name": "python",
   "nbconvert_exporter": "python",
   "pygments_lexer": "ipython3",
   "version": "3.8.5"
  }
 },
 "nbformat": 4,
 "nbformat_minor": 4
}
